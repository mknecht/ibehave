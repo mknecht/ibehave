{
 "cells": [
  {
   "cell_type": "markdown",
   "metadata": {},
   "source": [
    "The user profile is the place on the web page where users see their personal information.\n",
    "\n",
    "# Email Address\n",
    "\n",
    "Each user needs to tell us their email."
   ]
  },
  {
   "cell_type": "code",
   "execution_count": 1,
   "metadata": {
    "collapsed": false
   },
   "outputs": [
    {
     "name": "stdout",
     "output_type": "stream",
     "text": []
    }
   ],
   "source": [
    "Feature: User Profile"
   ]
  },
  {
   "cell_type": "markdown",
   "metadata": {},
   "source": [
    "## Why do we need the email?\n",
    "\n",
    "* Because it limits multiple sign-ups by the same person. \n",
    "* Because they want to be notified of Important Events.\n",
    "* Because we want to spam them.\n",
    "\n",
    "## Changing\n",
    "Users need to be able to change their email address."
   ]
  },
  {
   "cell_type": "code",
   "execution_count": 2,
   "metadata": {
    "collapsed": false
   },
   "outputs": [
    {
     "name": "stdout",
     "output_type": "stream",
     "text": []
    }
   ],
   "source": [
    "  Scenario: Email address is changed"
   ]
  },
  {
   "cell_type": "markdown",
   "metadata": {},
   "source": [
    "Why? Because everybody moves to Gmail.\n",
    "\n",
    "Let's look at what we need to assume:"
   ]
  },
  {
   "cell_type": "code",
   "execution_count": 3,
   "metadata": {
    "collapsed": false
   },
   "outputs": [
    {
     "name": "stdout",
     "output_type": "stream",
     "text": []
    }
   ],
   "source": [
    "     Given Tina is logged in"
   ]
  },
  {
   "cell_type": "markdown",
   "metadata": {},
   "source": [
    "With that in mind, we state as requirements for the system:"
   ]
  },
  {
   "cell_type": "code",
   "execution_count": 4,
   "metadata": {
    "collapsed": false
   },
   "outputs": [
    {
     "name": "stdout",
     "output_type": "stream",
     "text": []
    }
   ],
   "source": [
    "      When Tina changes her email to tina@example.com\n",
    "      Then in her user profile Tina sees tina@example.com as her email"
   ]
  },
  {
   "cell_type": "code",
   "execution_count": 5,
   "metadata": {
    "collapsed": false
   },
   "outputs": [
    {
     "name": "stdout",
     "output_type": "stream",
     "text": [
      "Feature: User Profile # features/notebook.feature:1\n",
      "\n",
      "  Scenario: Email address is changed                                 # features/notebook.feature:2\n",
      "    Given Tina is logged in                                          # features/steps/userprofile.py:4\n",
      "    When Tina changes her email to tina@example.com                  # features/steps/userprofile.py:10\n",
      "    Then in her user profile Tina sees tina@example.com as her email # features/steps/userprofile.py:16\n",
      "\n",
      "1 feature passed, 0 failed, 0 skipped\n",
      "1 scenario passed, 0 failed, 0 skipped\n",
      "3 steps passed, 0 failed, 0 skipped, 0 undefined\n",
      "Took 0m0.000s\n"
     ]
    }
   ],
   "source": [
    "That's it."
   ]
  }
 ],
 "metadata": {
  "kernelspec": {
   "display_name": "Behave",
   "language": "",
   "name": "behave"
  },
  "language_info": {
   "mimetype": "text/plain",
   "name": "behave"
  }
 },
 "nbformat": 4,
 "nbformat_minor": 0
}
