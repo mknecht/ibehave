{
 "cells": [
  {
   "cell_type": "markdown",
   "metadata": {},
   "source": [
    "# Testing the Universe\n",
    "\n",
    "Our Universe is **full of stuff**: Stars, Galactic Empires, Nothing and much more!\n",
    "\n",
    "Let's look at one phenomenon in particular:"
   ]
  },
  {
   "cell_type": "code",
   "execution_count": 1,
   "metadata": {
    "collapsed": false
   },
   "outputs": [
    {
     "name": "stdout",
     "output_type": "stream",
     "text": []
    }
   ],
   "source": [
    "Feature: Black Holes"
   ]
  },
  {
   "cell_type": "markdown",
   "metadata": {},
   "source": [
    "As everybody understands by now: [Black Holes](https://en.wikipedia.org/wiki/Black_hole) are awesome and real!\n",
    "\n",
    "![Image of such](https://upload.wikimedia.org/wikipedia/commons/d/d6/BlackHole_Lensing.gif)\n",
    "\n",
    "And in light of [recent events](http://www.newyorker.com/tech/elements/gravitational-waves-exist-heres-how-scientists-finally-found-them), let's look at one scenarios in particular:\n",
    "\n",
    "## Boom"
   ]
  },
  {
   "cell_type": "code",
   "execution_count": 2,
   "metadata": {
    "collapsed": false
   },
   "outputs": [
    {
     "name": "stdout",
     "output_type": "stream",
     "text": []
    }
   ],
   "source": [
    " Scenario: Two black holes collide and thereby generate a detectable wave."
   ]
  },
  {
   "cell_type": "markdown",
   "metadata": {},
   "source": [
    "Let's make our assumptions perfectly clear: "
   ]
  },
  {
   "cell_type": "code",
   "execution_count": 3,
   "metadata": {
    "collapsed": false
   },
   "outputs": [
    {
     "name": "stdout",
     "output_type": "stream",
     "text": []
    }
   ],
   "source": [
    "   Given we have 2 black holes"
   ]
  },
  {
   "cell_type": "markdown",
   "metadata": {},
   "source": [
    "We have two *really* dark places near each other …"
   ]
  },
  {
   "cell_type": "code",
   "execution_count": 4,
   "metadata": {
    "collapsed": false
   },
   "outputs": [
    {
     "name": "stdout",
     "output_type": "stream",
     "text": []
    }
   ],
   "source": [
    "    And a big L"
   ]
  },
  {
   "cell_type": "markdown",
   "metadata": {},
   "source": [
    "a.k.a. the [Laser Interferometer Gravitational-Wave Observatory](https://en.wikipedia.org/wiki/LIGO)"
   ]
  },
  {
   "cell_type": "code",
   "execution_count": 5,
   "metadata": {
    "collapsed": false
   },
   "outputs": [
    {
     "name": "stdout",
     "output_type": "stream",
     "text": []
    }
   ],
   "source": [
    "    When the holes collide"
   ]
  },
  {
   "cell_type": "markdown",
   "metadata": {},
   "source": [
    "TODO read General Theory of Relativity for Complete Dummies"
   ]
  },
  {
   "cell_type": "code",
   "execution_count": 6,
   "metadata": {
    "collapsed": false
   },
   "outputs": [
    {
     "name": "stdout",
     "output_type": "stream",
     "text": []
    }
   ],
   "source": [
    "    Then we detect shockwaves"
   ]
  },
  {
   "cell_type": "markdown",
   "metadata": {},
   "source": [
    "… and get Nobel prices and such :)"
   ]
  },
  {
   "cell_type": "code",
   "execution_count": 7,
   "metadata": {
    "collapsed": false
   },
   "outputs": [
    {
     "name": "stdout",
     "output_type": "stream",
     "text": [
      "Feature: Black Holes # features/notebook.feature:1\n",
      "\n",
      "  Scenario: Two black holes collide and thereby generate a detectable wave.  # features/notebook.feature:2\n",
      "    Given we have 2 black holes                                              # features/steps/blackhole.py:8\n",
      "    And a big L                                                              # features/steps/blackhole.py:14\n",
      "    When the holes collide                                                   # features/steps/blackhole.py:19\n",
      "    Then we detect shockwaves                                                # features/steps/blackhole.py:24\n",
      "\n",
      "1 feature passed, 0 failed, 0 skipped\n",
      "1 scenario passed, 0 failed, 0 skipped\n",
      "4 steps passed, 0 failed, 0 skipped, 0 undefined\n",
      "Took 0m0.000s\n"
     ]
    }
   ],
   "source": [
    "That's it. (Let's see if that works, too.)"
   ]
  }
 ],
 "metadata": {
  "kernelspec": {
   "display_name": "Behave",
   "language": "",
   "name": "behave"
  },
  "language_info": {
   "mimetype": "text/plain",
   "name": "behave"
  }
 },
 "nbformat": 4,
 "nbformat_minor": 0
}
